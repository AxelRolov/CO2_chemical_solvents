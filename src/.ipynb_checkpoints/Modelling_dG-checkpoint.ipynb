{
 "cells": [
  {
   "cell_type": "markdown",
   "metadata": {},
   "source": [
    "# Importing libraries"
   ]
  },
  {
   "cell_type": "code",
   "execution_count": null,
   "metadata": {},
   "outputs": [],
   "source": [
    "import sys\n",
    "from pathlib import Path\n",
    "import glob\n",
    "import pandas as pd\n",
    "import numpy as np\n",
    "from xgboost import XGBRegressor\n",
    "from sklearn.metrics import mean_absolute_error as mae, mean_squared_error as mse, r2_score as r2\n",
    "from sklearn.model_selection import RepeatedKFold\n",
    "from sklearn.ensemble import RandomForestRegressor\n",
    "import pickle\n",
    "from utils import fragment_control, bounding_box, mkdir"
   ]
  },
  {
   "cell_type": "markdown",
   "metadata": {},
   "source": [
    "# Reading descriptors"
   ]
  },
  {
   "cell_type": "code",
   "execution_count": null,
   "metadata": {},
   "outputs": [],
   "source": [
    "desc_dict = {}\n",
    "for desc in glob.glob('../data/*.csv'):\n",
    "    desc_dict[Path(desc).stem] = pd.read_csv(desc)"
   ]
  },
  {
   "cell_type": "markdown",
   "metadata": {},
   "source": [
    "# Models for the computed rate of reaction (R<sub>QSPR</sub>)"
   ]
  },
  {
   "cell_type": "markdown",
   "metadata": {},
   "source": [
    "## Reading hyperparameters of the best models"
   ]
  },
  {
   "cell_type": "code",
   "execution_count": null,
   "metadata": {},
   "outputs": [],
   "source": [
    "target_col = 'dG_MD_ylog'\n",
    "descs_rf = pd.read_csv('../results/best_hyperparameters/dG_best_models_RF.csv')\n",
    "descs_xgb = pd.read_csv('../results/best_hyperparameters/dG_best_models_XGB.csv')"
   ]
  },
  {
   "cell_type": "code",
   "execution_count": null,
   "metadata": {},
   "outputs": [],
   "source": [
    "model_res = desc_dict[descs_rf.loc[0, 'desc_name']].loc[:, ['cid', 'std_smiles', 'CompRate_ylog', 'dG_MD_ylog']]\n",
    "for desc in descs_xgb['desc_name']:\n",
    "    model_res[desc + '_XGB'] = None\n",
    "for desc in descs_rf['desc_name']:\n",
    "    model_res[desc + '_RF'] = None"
   ]
  },
  {
   "cell_type": "markdown",
   "metadata": {},
   "source": [
    "## Evaluation of the models in 5 times repeated 5-fold CV"
   ]
  },
  {
   "cell_type": "code",
   "execution_count": null,
   "metadata": {
    "scrolled": true
   },
   "outputs": [],
   "source": [
    "folds_stats = [] # list for saving the stats from CV folds\n",
    "\n",
    "nspl = 5  # number of folds for CV procedure\n",
    "\n",
    "nrpts = 5  # number of repeats of CV procedure\n",
    "\n",
    "kf = RepeatedKFold(n_splits=nspl, n_repeats=nrpts, random_state=0)\n",
    "\n",
    "i = 0\n",
    "\n",
    "for train_index, test_index in kf.split(model_res):\n",
    "   \n",
    "    y_train = model_res.loc[train_index, f'{target_col}']\n",
    "    df_temp = model_res.copy(deep=True)\n",
    "    \n",
    "    for desc_name in descs_xgb['desc_name']:\n",
    "        \n",
    "        X = desc_dict[desc_name].iloc[:, 4:]\n",
    "        \n",
    "        xgb_params = eval(descs_xgb.loc[descs_xgb['desc_name']==desc_name, f'{target_col}_param_XGB'].iloc[0])\n",
    "        xgb_params.update({'n_jobs': -1})\n",
    "        xgb_model = XGBRegressor(**xgb_params)\n",
    "        xgb_model.fit(X.loc[train_index], y_train)\n",
    "        \n",
    "        df_temp.loc[test_index, f'{desc_name}_XGB'] = xgb_model.predict(X.loc[test_index])\n",
    "        df_temp.loc[bounding_box(X.loc[train_index], X.loc[test_index]), f'{desc_name}_AD'] = 1   \n",
    "        df_temp.loc[test_index, 'CV_fold'] = i\n",
    "        \n",
    "        \n",
    "\n",
    "    \n",
    "    for desc_name in descs_rf['desc_name']:\n",
    "        \n",
    "        X = desc_dict[desc_name].iloc[:, 4:]\n",
    "        \n",
    "        rf_params = eval(descs_rf.loc[descs_rf['desc_name']==desc_name, f'{target_col}_param_RF'].iloc[0])\n",
    "        rf_params.update({'n_jobs': -1})\n",
    "        rf_model = RandomForestRegressor(**rf_params)\n",
    "        rf_model.fit(X.loc[train_index], y_train)\n",
    "        \n",
    "        df_temp.loc[test_index, f'{desc_name}_RF'] = rf_model.predict(X.loc[test_index])\n",
    "        \n",
    "        \n",
    "        if desc_name not in descs_xgb['desc_name'].dropna().tolist():\n",
    "            df_temp.loc[bounding_box(X.loc[train_index], X.loc[test_index]), f'{desc_name}_AD'] = 1\n",
    "       \n",
    "    folds_stats.append(df_temp.loc[~df_temp['CV_fold'].isna()])\n",
    "    i+=1\n",
    "    print(i)"
   ]
  },
  {
   "cell_type": "code",
   "execution_count": null,
   "metadata": {},
   "outputs": [],
   "source": [
    "all_stats = pd.concat(folds_stats, axis=0)  # concatenating the stat data from folds\n",
    "pred_columns = [col for col in all_stats.columns if '_RF' in col or '_XGB' in col]  # list of columns with predicted values"
   ]
  },
  {
   "cell_type": "markdown",
   "metadata": {},
   "source": [
    "### Consideration of the applicability domain (AD)"
   ]
  },
  {
   "cell_type": "code",
   "execution_count": null,
   "metadata": {},
   "outputs": [],
   "source": [
    "ad_columns = [col for col in all_stats.columns if 'AD' in col]  # list of columns with applicability domain info\n",
    "all_stats.loc[:, ad_columns] = all_stats.loc[:, ad_columns].fillna(0)  # replace None values with 0\n",
    "all_stats['applicability_domain'] = None  # column to check whether the compound is in AD\n",
    "all_stats['applicability_domain_conf'] = None  # for how many models compound is in AD\n",
    "all_stats['applicability_domain_conf'] = (all_stats.loc[:, ad_columns]==0).astype(int).sum(axis=1)  # sum number of descriptor sets for which compound is in AD\n",
    "all_stats.loc[all_stats['applicability_domain_conf']>=3, 'applicability_domain'] = 1  # if compound is inside AD for at least 3 descriptor sets => 1\n",
    "all_stats['applicability_domain'] = all_stats['applicability_domain'].fillna(0)"
   ]
  },
  {
   "cell_type": "code",
   "execution_count": null,
   "metadata": {},
   "outputs": [],
   "source": [
    "all_stats.groupby('cid')['applicability_domain'].mean().value_counts()  # how many compounds are outside AD in CV procedure?"
   ]
  },
  {
   "cell_type": "code",
   "execution_count": null,
   "metadata": {},
   "outputs": [],
   "source": [
    "all_stats_temp = all_stats.copy(deep=True)  # create a temporary dataframe for aggregation of predictions cosnidering AD\n",
    "for col in ad_columns:\n",
    "    all_stats_temp.loc[all_stats_temp[col]==1, [coli for coli in all_stats_temp.columns if col.replace('_AD', '_RF') in coli or col.replace('_AD', '_XGB') in coli]] = None\n",
    "all_stats_temp['avg_pred'] = all_stats_temp.loc[:, pred_columns].median(axis=1)\n",
    "all_stats.loc[:, 'avg_pred'] = all_stats_temp['avg_pred']\n",
    "all_stats.loc[:, 'avg_pred_AD'] = all_stats_temp['avg_pred']\n",
    "all_stats.loc[all_stats['avg_pred_AD'].isna(), 'avg_pred'] = all_stats.loc[all_stats['avg_pred_AD'].isna(), pred_columns].median(axis=1)"
   ]
  },
  {
   "cell_type": "code",
   "execution_count": null,
   "metadata": {},
   "outputs": [],
   "source": [
    "all_stats"
   ]
  },
  {
   "cell_type": "markdown",
   "metadata": {},
   "source": [
    "### Showing stats obtained in 5x5 CV"
   ]
  },
  {
   "cell_type": "code",
   "execution_count": null,
   "metadata": {},
   "outputs": [],
   "source": [
    "q2_cv = []\n",
    "mae_cv = []\n",
    "rmse_cv = []\n",
    "all_stats_res = []\n",
    "for cv_fold in range(0, nspl*nrpts, nspl):\n",
    "    if cv_fold == 0:\n",
    "        all_stats_res.append(all_stats.loc[all_stats['CV_fold'].isin([i for i in range(cv_fold, cv_fold+nspl)]), ['cid', 'avg_pred']])\n",
    "    else:\n",
    "        all_stats_res.append(all_stats.loc[all_stats['CV_fold'].isin([i for i in range(cv_fold, cv_fold+nspl)]), ['avg_pred']])\n",
    "    q2_cv.append(r2(all_stats.loc[all_stats['CV_fold'].isin([i for i in range(cv_fold, cv_fold+nspl)]), [f'{target_col}']], all_stats.loc[all_stats['CV_fold'].isin([i for i in range(cv_fold, cv_fold+nspl)]), ['avg_pred']]))\n",
    "    rmse_cv.append(mse(all_stats.loc[all_stats['CV_fold'].isin([i for i in range(cv_fold, cv_fold+nspl)]), [f'{target_col}']], all_stats.loc[all_stats['CV_fold'].isin([i for i in range(cv_fold, cv_fold+nspl)]), ['avg_pred']])**0.5)             \n",
    "    mae_cv.append(mae(all_stats.loc[all_stats['CV_fold'].isin([i for i in range(cv_fold, cv_fold+nspl)]), [f'{target_col}']], all_stats.loc[all_stats['CV_fold'].isin([i for i in range(cv_fold, cv_fold+nspl)]), ['avg_pred']]))                         "
   ]
  },
  {
   "cell_type": "code",
   "execution_count": null,
   "metadata": {},
   "outputs": [],
   "source": [
    "print(f'Gas: {target_col}; Q2(5x5CV): {round(np.mean(q2_cv), 2)}; Q2_std(5x5CV): {round(np.std(q2_cv), 2)}')\n",
    "print(f'Gas: {target_col}; RMSE(5x5CV): {round(np.mean(rmse_cv), 2)}; RMSE_std(5x5CV): {round(np.std(rmse_cv), 3)}')\n",
    "print(f'Gas: {target_col}; MAE(5x5CV): {round(np.mean(mae_cv), 2)}; MAE_std(5x5CV): {round(np.std(mae_cv), 3)}')"
   ]
  },
  {
   "cell_type": "markdown",
   "metadata": {},
   "source": [
    "### Analyzing outliers"
   ]
  },
  {
   "cell_type": "code",
   "execution_count": null,
   "metadata": {},
   "outputs": [],
   "source": [
    "rmse_cv = np.mean(rmse_cv)  # the value of rmse from CV for outlier analysis"
   ]
  },
  {
   "cell_type": "code",
   "execution_count": null,
   "metadata": {},
   "outputs": [],
   "source": [
    "rmse_cv*2"
   ]
  },
  {
   "cell_type": "code",
   "execution_count": null,
   "metadata": {},
   "outputs": [],
   "source": [
    "all_stats_res = pd.concat(all_stats_res, axis=1)\n",
    "all_stats_res = pd.merge(all_stats_res, model_res.loc[:, ['cid', f'{target_col}']], on='cid', how='left')\n",
    "all_stats_res.loc[:, 'avg_pred_fin'] = all_stats_res.loc[:, ['avg_pred']].mean(axis=1)\n",
    "all_stats_res['abs_err'] = all_stats_res.loc[:, 'avg_pred_fin'] - all_stats_res.loc[:, f'{target_col}']\n",
    "all_stats_res['abs_err'] = all_stats_res['abs_err'].abs()"
   ]
  },
  {
   "cell_type": "code",
   "execution_count": null,
   "metadata": {},
   "outputs": [],
   "source": [
    "all_stats_res.loc[all_stats_res['abs_err']>=2*rmse_cv, 'outlier'] = 1"
   ]
  },
  {
   "cell_type": "code",
   "execution_count": null,
   "metadata": {},
   "outputs": [],
   "source": [
    "all_stats_res.sort_values('abs_err', ascending=False).head(10)"
   ]
  },
  {
   "cell_type": "markdown",
   "metadata": {},
   "source": [
    "### Saving the dataframe with stats for the figure"
   ]
  },
  {
   "cell_type": "code",
   "execution_count": null,
   "metadata": {},
   "outputs": [],
   "source": [
    "all_stats_res.to_csv('../results/model_stats/dG_5x5CV_stats.csv', index=False)"
   ]
  },
  {
   "cell_type": "markdown",
   "metadata": {},
   "source": [
    "## (re)Fitting and saving the models"
   ]
  },
  {
   "cell_type": "code",
   "execution_count": null,
   "metadata": {},
   "outputs": [],
   "source": [
    "y = model_res.loc[:, f'{target_col}']\n",
    "for desc_name in descs_xgb['desc_name']:\n",
    "    X = desc_dict[desc_name].iloc[:, 4:]\n",
    "    xgb_params = eval(descs_xgb.loc[descs_xgb['desc_name']==desc_name, f'{target_col}_param_XGB'].iloc[0])\n",
    "    xgb_params.update({'n_jobs': -1})\n",
    "    xgb_model = XGBRegressor(**xgb_params)\n",
    "    xgb_model.fit(X, y)\n",
    "    with open(f'../results/models/dg/dG_{desc_name}_xgb.pkl', 'wb') as mf:\n",
    "        pickle.dump(xgb_model, mf)\n",
    "for desc_name in descs_rf['desc_name']:\n",
    "    X = desc_dict[desc_name].iloc[:, 4:]\n",
    "    rf_params = eval(descs_rf.loc[descs_rf['desc_name']==desc_name, f'{target_col}_param_RF'].iloc[0])\n",
    "    rf_params.update({'n_jobs': -1})\n",
    "    rf_model = RandomForestRegressor(**rf_params)\n",
    "    rf_model.fit(X, y)\n",
    "    with open(f'../results/models/dg/dG_{desc_name}_rf.pkl', 'wb') as mf:\n",
    "        pickle.dump(rf_model, mf)"
   ]
  }
 ],
 "metadata": {
  "kernelspec": {
   "display_name": "Python 3 (ipykernel)",
   "language": "python",
   "name": "python3"
  },
  "language_info": {
   "codemirror_mode": {
    "name": "ipython",
    "version": 3
   },
   "file_extension": ".py",
   "mimetype": "text/x-python",
   "name": "python",
   "nbconvert_exporter": "python",
   "pygments_lexer": "ipython3",
   "version": "3.7.11"
  }
 },
 "nbformat": 4,
 "nbformat_minor": 4
}
