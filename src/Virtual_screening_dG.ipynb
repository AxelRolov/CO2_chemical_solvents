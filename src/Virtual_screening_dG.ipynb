{
 "cells": [
  {
   "cell_type": "markdown",
   "metadata": {},
   "source": [
    "# Importing libraries"
   ]
  },
  {
   "cell_type": "code",
   "execution_count": 43,
   "metadata": {},
   "outputs": [],
   "source": [
    "import pandas as pd\n",
    "import pickle\n",
    "from utils import bounding_box"
   ]
  },
  {
   "cell_type": "markdown",
   "metadata": {},
   "source": [
    "# Screening"
   ]
  },
  {
   "cell_type": "markdown",
   "metadata": {},
   "source": [
    "## Uploading best models and the dataset for saving results"
   ]
  },
  {
   "cell_type": "code",
   "execution_count": 44,
   "metadata": {},
   "outputs": [],
   "source": [
    "descs_rf = pd.read_csv('../results/best_hyperparameters/dG_best_models_RF.csv')\n",
    "descs_xgb = pd.read_csv('../results/best_hyperparameters/dG_best_models_XGB.csv')"
   ]
  },
  {
   "cell_type": "code",
   "execution_count": 45,
   "metadata": {},
   "outputs": [],
   "source": [
    "screen_pred = pd.read_excel('../screening/dataset.xlsx')"
   ]
  },
  {
   "cell_type": "markdown",
   "metadata": {},
   "source": [
    "## Screening with Random Forest models"
   ]
  },
  {
   "cell_type": "code",
   "execution_count": 46,
   "metadata": {},
   "outputs": [],
   "source": [
    "for desc_name in descs_rf['desc_name']:\n",
    "    train_set = pd.read_csv(f'../data/{desc_name}.csv')  # training set for AD estimation\n",
    "    train_set = train_set.iloc[:, 4:]  # removing unnecessary columns\n",
    "    screen_set = pd.read_csv(f'../screening/{desc_name}_screen.csv')  # screening set\n",
    "    screen_set = screen_set.iloc[:, 2:]  # removing unnecessary columns\n",
    "    # uploading model\n",
    "    with open(f'../results/models/dg/dG_{desc_name}_rf.pkl', 'rb') as mf:\n",
    "        model = pickle.load(mf)\n",
    "    # checking AD and making predictions\n",
    "    screen_pred.loc[bounding_box(train_set, screen_set), f'{desc_name}_AD'] = 1\n",
    "    screen_set = screen_set.loc[:, train_set.columns]\n",
    "    screen_set = screen_set.fillna(0)\n",
    "    screen_pred.loc[:, f'{desc_name}_RF'] = model.predict(screen_set)"
   ]
  },
  {
   "cell_type": "markdown",
   "metadata": {},
   "source": [
    "## Screening with XGBoost models"
   ]
  },
  {
   "cell_type": "code",
   "execution_count": 47,
   "metadata": {},
   "outputs": [],
   "source": [
    "for desc_name in descs_xgb['desc_name']:\n",
    "    train_set = pd.read_csv(f'../data/{desc_name}.csv')  # training set for AD estimation\n",
    "    train_set = train_set.iloc[:, 4:]  # removing unnecessary columns\n",
    "    screen_set = pd.read_csv(f'../screening/{desc_name}_screen.csv')  # screening set\n",
    "    screen_set = screen_set.iloc[:, 2:]  # removing unnecessary columns\n",
    "    # uploading model\n",
    "    with open(f'../results/models/dg/dG_{desc_name}_xgb.pkl', 'rb') as mf:\n",
    "        model = pickle.load(mf)\n",
    "    # checking AD and making predictions\n",
    "    if desc_name not in  descs_rf['desc_name']:\n",
    "        screen_pred.loc[bounding_box(train_set, screen_set), f'{desc_name}_AD'] = 1\n",
    "    screen_set = screen_set.loc[:, train_set.columns]\n",
    "    screen_set = screen_set.fillna(0)\n",
    "    screen_pred.loc[:, f'{desc_name}_XGB'] = model.predict(screen_set)"
   ]
  },
  {
   "cell_type": "markdown",
   "metadata": {},
   "source": [
    "## Averaging results considering AD"
   ]
  },
  {
   "cell_type": "code",
   "execution_count": 48,
   "metadata": {},
   "outputs": [],
   "source": [
    "cols = [col for col in screen_pred.columns if '_RF' in col or '_XGB' in col]\n",
    "ad_cols = [col for col in screen_pred.columns if '_AD' in col]\n",
    "temp_df = screen_pred.copy(deep=True)\n",
    "for col in ad_cols:\n",
    "    temp_df.loc[temp_df[col]==1, [coli for coli in temp_df.columns if col.replace('_AD', '_RF') in coli or col.replace('_AD', '_XGB') in coli]] = np.nan\n",
    "temp_df['avg_pred'] = temp_df.loc[:, cols].median(axis=1)\n",
    "screen_pred.loc[:, 'dg_avg_pred'] = temp_df['avg_pred']\n",
    "screen_pred.loc[:, 'dg_avg_pred_AD'] = temp_df['avg_pred']\n",
    "screen_pred.loc[screen_pred['dg_avg_pred_AD'].isna(), 'dg_avg_pred'] = screen_pred.loc[screen_pred['dg_avg_pred_AD'].isna(), cols].mean(axis=1)\n",
    "screen_pred['dg_antilog_avg_pred'] = screen_pred['dg_avg_pred'].apply(lambda x: 10**(-x))"
   ]
  },
  {
   "cell_type": "markdown",
   "metadata": {},
   "source": [
    "## Saving results"
   ]
  },
  {
   "cell_type": "code",
   "execution_count": 49,
   "metadata": {},
   "outputs": [],
   "source": [
    "screen_pred.to_csv('../results/screening/dG_pred.csv', index=False)"
   ]
  }
 ],
 "metadata": {
  "kernelspec": {
   "display_name": "Python 3 (ipykernel)",
   "language": "python",
   "name": "python3"
  },
  "language_info": {
   "codemirror_mode": {
    "name": "ipython",
    "version": 3
   },
   "file_extension": ".py",
   "mimetype": "text/x-python",
   "name": "python",
   "nbconvert_exporter": "python",
   "pygments_lexer": "ipython3",
   "version": "3.7.11"
  }
 },
 "nbformat": 4,
 "nbformat_minor": 4
}
